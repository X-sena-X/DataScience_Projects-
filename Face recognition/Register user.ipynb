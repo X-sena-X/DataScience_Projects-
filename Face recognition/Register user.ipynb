{
 "cells": [
  {
   "cell_type": "code",
   "execution_count": 1,
   "id": "8223a53c",
   "metadata": {},
   "outputs": [],
   "source": [
    "import cv2\n",
    "import numpy as np"
   ]
  },
  {
   "cell_type": "code",
   "execution_count": 2,
   "id": "7cbc492f",
   "metadata": {},
   "outputs": [],
   "source": [
    "cap = cv2.VideoCapture(0)\n",
    "face_cascade = cv2.CascadeClassifier(\"haarcascade_frontalface_alt.xml\")"
   ]
  },
  {
   "cell_type": "code",
   "execution_count": 3,
   "id": "8ebcd4ed",
   "metadata": {},
   "outputs": [
    {
     "name": "stdout",
     "output_type": "stream",
     "text": [
      "Enter your namekrishanth\n"
     ]
    }
   ],
   "source": [
    "face_data = []\n",
    "dataset_path = './Data/'\n",
    "skip=0    \n",
    "file_name = input(\"Enter your name\")"
   ]
  },
  {
   "cell_type": "markdown",
   "id": "c6b77038",
   "metadata": {},
   "source": [
    "## to capture frame till key is pressed"
   ]
  },
  {
   "cell_type": "code",
   "execution_count": 4,
   "id": "5bcdd202",
   "metadata": {},
   "outputs": [],
   "source": [
    "while True:\n",
    "    ret,frame = cap.read()\n",
    "    gray_frame = cv2.cvtColor(frame,cv2.COLOR_BGR2GRAY)\n",
    "    \n",
    "    if ret == False:\n",
    "        continue\n",
    "    \n",
    "    faces = face_cascade.detectMultiScale(frame,1.3,5)\n",
    "    faces = sorted(faces,key=lambda f:f[2]*f[3])\n",
    "    \n",
    "    # pick the last face because it is sorted according to the area\n",
    "    for face in faces[-1:]:\n",
    "        x,y,w,h = face\n",
    "        cv2.rectangle(frame,(x,y),(x+w,y+h),(0,255,255),2)\n",
    "        \n",
    "        ## Extract (crop out the face): region of interest\n",
    "        offset = 10\n",
    "        face_selection = frame[y-offset: y+h+offset, x-offset: x+w+offset]\n",
    "        \n",
    "        face_selection = cv2.resize(face_selection,(100,100))\n",
    "        if skip%10 ==0:\n",
    "            face_data.append(face_selection)\n",
    "            #print(len(face_data))\n",
    "        \n",
    "            \n",
    "    cv2.imshow(\"Frame\",frame)\n",
    "    #cv2.imshow(\"face Section\",face_selection)\n",
    "\n",
    "    \n",
    "    key_pressed = cv2.waitKey(1) & 0xFF\n",
    "    if key_pressed == ord('q'):\n",
    "        break\n",
    "        \n"
   ]
  },
  {
   "cell_type": "markdown",
   "id": "410f9080",
   "metadata": {},
   "source": [
    "## to convert our face list array into a numpy array"
   ]
  },
  {
   "cell_type": "code",
   "execution_count": 5,
   "id": "4037fcfe",
   "metadata": {},
   "outputs": [
    {
     "name": "stdout",
     "output_type": "stream",
     "text": [
      "(51, 30000)\n"
     ]
    }
   ],
   "source": [
    "face_data = np.asarray(face_data)\n",
    "face_data = face_data.reshape((face_data.shape[0],-1))\n",
    "print(face_data.shape)"
   ]
  },
  {
   "cell_type": "markdown",
   "id": "4d9f7c8c",
   "metadata": {},
   "source": [
    "## to save the data into ur system"
   ]
  },
  {
   "cell_type": "code",
   "execution_count": 6,
   "id": "32bace6a",
   "metadata": {},
   "outputs": [
    {
     "name": "stdout",
     "output_type": "stream",
     "text": [
      "DATA SUCCESSFULLY ADDED\n"
     ]
    }
   ],
   "source": [
    "np.save(dataset_path+file_name+'.npy',face_data)\n",
    "print(\"DATA SUCCESSFULLY ADDED\")"
   ]
  },
  {
   "cell_type": "code",
   "execution_count": 7,
   "id": "299465ef",
   "metadata": {},
   "outputs": [],
   "source": [
    "cap.release()\n",
    "cv2.destroyAllWindows()"
   ]
  },
  {
   "cell_type": "code",
   "execution_count": null,
   "id": "0877da8f",
   "metadata": {},
   "outputs": [],
   "source": []
  }
 ],
 "metadata": {
  "kernelspec": {
   "display_name": "Python 3 (ipykernel)",
   "language": "python",
   "name": "python3"
  },
  "language_info": {
   "codemirror_mode": {
    "name": "ipython",
    "version": 3
   },
   "file_extension": ".py",
   "mimetype": "text/x-python",
   "name": "python",
   "nbconvert_exporter": "python",
   "pygments_lexer": "ipython3",
   "version": "3.9.13"
  }
 },
 "nbformat": 4,
 "nbformat_minor": 5
}
